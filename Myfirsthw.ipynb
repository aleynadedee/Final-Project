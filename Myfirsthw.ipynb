{
  "metadata": {
    "kernelspec": {
      "name": "python",
      "display_name": "Python (Pyodide)",
      "language": "python"
    },
    "language_info": {
      "codemirror_mode": {
        "name": "python",
        "version": 3
      },
      "file_extension": ".py",
      "mimetype": "text/x-python",
      "name": "python",
      "nbconvert_exporter": "python",
      "pygments_lexer": "ipython3",
      "version": "3.8"
    }
  },
  "nbformat_minor": 4,
  "nbformat": 4,
  "cells": [
    {
      "cell_type": "markdown",
      "source": "# Final Project Notebook",
      "metadata": {}
    },
    {
      "cell_type": "markdown",
      "source": "## Introduction\nThis notebook contains exercises and examples related to data science. The aim is to demonstrate various skills and tools commonly used in the field.",
      "metadata": {}
    },
    {
      "cell_type": "markdown",
      "source": "## Data Science Languages\nSome of the popular languages used in data science include:\n- Python\n- R\n- SQL\n- Julia\n- Scala\n",
      "metadata": {}
    },
    {
      "cell_type": "markdown",
      "source": "## Data Science Libraries\nCommonly used libraries in data science are:\n- NumPy\n- Pandas\n- Matplotlib\n- Scikit-learn\n- TensorFlow\n- Keras\n",
      "metadata": {}
    },
    {
      "cell_type": "markdown",
      "source": "## Data Science Tools\n| Tool             | Description                                      |\n|------------------|--------------------------------------------------|\n| Jupyter Notebook | An open-source web application to create documents with live code, equations, visualizations, and narrative text. |\n| RStudio          | An integrated development environment for R.     |\n| Apache Hadoop    | A framework that allows for the distributed processing of large data sets across clusters of computers. |\n",
      "metadata": {}
    },
    {
      "cell_type": "markdown",
      "source": "## Arithmetic Expression Examples\nBelow are some examples of arithmetic expressions in Python.\n",
      "metadata": {}
    },
    {
      "cell_type": "markdown",
      "source": "# This code multiplies and adds two numbers\na = 8\nb = 6\nresult = a * b + a + b\nresult\n",
      "metadata": {}
    },
    {
      "cell_type": "markdown",
      "source": "# This code converts minutes to hours\nminutes = 120\nhours = minutes / 60\nhours\n",
      "metadata": {}
    },
    {
      "cell_type": "markdown",
      "source": "## Objectives\n- Learn how to use Jupyter Notebook\n- Understand basic data science concepts\n- Get familiar with data science tools and libraries\n- Practice writing code and markdown cells\n- Be Happy",
      "metadata": {}
    },
    {
      "cell_type": "markdown",
      "source": "## Author\nAleyna Dede\n",
      "metadata": {}
    }
  ]
}